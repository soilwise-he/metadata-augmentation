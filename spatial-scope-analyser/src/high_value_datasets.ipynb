{
 "cells": [
  {
   "cell_type": "markdown",
   "metadata": {},
   "source": [
    "The method described below identifies whethear a dataset is of high value.\n",
    "A dataset is considered of high value when the bbox it defines aplies to a whole country.\n",
    "In the code below we consider datasets that contain only one bbox. \n",
    "We have defined a threshold if the bounding box covers at least 70% of the country to consider a dataset\n",
    "of high value. This threshold can be changed based on our needs"
   ]
  },
  {
   "cell_type": "code",
   "execution_count": 1,
   "metadata": {},
   "outputs": [],
   "source": [
    "import xml.etree.ElementTree as ET\n",
    "from shapely.geometry import Point, Polygon, box\n",
    "import geopandas as gpd\n",
    "from geopy import distance\n",
    "from pyproj import CRS\n",
    "import pandas as pd\n",
    "import folium"
   ]
  },
  {
   "cell_type": "markdown",
   "metadata": {},
   "source": [
    "Load the \"ne_110m_admin_0_countries\" dataset which is part of the Natural Earth collection.<br/>\n",
    "This will be used for conducting geographical analysis and more specifically in identification of the reference country that is being processed. <br/>\n",
    "Futhermore we load the eu_countries.csv which contains the Country Name, the Country Code and the Area."
   ]
  },
  {
   "cell_type": "code",
   "execution_count": 2,
   "metadata": {},
   "outputs": [],
   "source": [
    "# Load world dataset from local shapefile\n",
    "world = gpd.read_file(\"./world_countries/ne_110m_admin_0_countries.shp\")\n",
    "\n",
    "# Load counties details\n",
    "eu_countries_df = pd.read_csv(\"./eu_countries.csv\")\n",
    "\n",
    "world = world[world['NAME'].isin(eu_countries_df[\"Country Name\"])]"
   ]
  },
  {
   "cell_type": "markdown",
   "metadata": {},
   "source": [
    "Load the coordinates from xml"
   ]
  },
  {
   "cell_type": "code",
   "execution_count": 3,
   "metadata": {},
   "outputs": [
    {
     "name": "stdout",
     "output_type": "stream",
     "text": [
      "Coordinates: (6.54747184, 51.2249633, 11.74161086, 53.93431815)\n"
     ]
    }
   ],
   "source": [
    "root = ET.parse(\"./dataset.xml\")\n",
    "\n",
    "ns = {'gmd': 'http://www.isotc211.org/2005/gmd',\n",
    "      'gco': 'http://www.isotc211.org/2005/gco'}\n",
    "\n",
    "bbox = root.find('.//gmd:EX_GeographicBoundingBox', ns)\n",
    "\n",
    "coords = None\n",
    "\n",
    "if bbox is not None:\n",
    "    west = float(bbox.find('./gmd:westBoundLongitude/gco:Decimal', ns).text)\n",
    "    east = float(bbox.find('./gmd:eastBoundLongitude/gco:Decimal', ns).text)\n",
    "    south = float(bbox.find('./gmd:southBoundLatitude/gco:Decimal', ns).text)\n",
    "    north = float(bbox.find('./gmd:northBoundLatitude/gco:Decimal', ns).text)\n",
    "    coords = (west, south, east, north)\n",
    "\n",
    "print(f\"Coordinates: {coords}\")"
   ]
  },
  {
   "cell_type": "markdown",
   "metadata": {},
   "source": [
    "Plot the bounding box using the folium library for visualization"
   ]
  },
  {
   "cell_type": "code",
   "execution_count": 4,
   "metadata": {},
   "outputs": [
    {
     "data": {
      "text/html": [
       "<div style=\"width:100%;\"><div style=\"position:relative;width:100%;height:0;padding-bottom:60%;\"><span style=\"color:#565656\">Make this Notebook Trusted to load map: File -> Trust Notebook</span><iframe srcdoc=\"&lt;!DOCTYPE html&gt;\n",
       "&lt;html&gt;\n",
       "&lt;head&gt;\n",
       "    \n",
       "    &lt;meta http-equiv=&quot;content-type&quot; content=&quot;text/html; charset=UTF-8&quot; /&gt;\n",
       "    \n",
       "        &lt;script&gt;\n",
       "            L_NO_TOUCH = false;\n",
       "            L_DISABLE_3D = false;\n",
       "        &lt;/script&gt;\n",
       "    \n",
       "    &lt;style&gt;html, body {width: 100%;height: 100%;margin: 0;padding: 0;}&lt;/style&gt;\n",
       "    &lt;style&gt;#map {position:absolute;top:0;bottom:0;right:0;left:0;}&lt;/style&gt;\n",
       "    &lt;script src=&quot;https://cdn.jsdelivr.net/npm/leaflet@1.9.3/dist/leaflet.js&quot;&gt;&lt;/script&gt;\n",
       "    &lt;script src=&quot;https://code.jquery.com/jquery-3.7.1.min.js&quot;&gt;&lt;/script&gt;\n",
       "    &lt;script src=&quot;https://cdn.jsdelivr.net/npm/bootstrap@5.2.2/dist/js/bootstrap.bundle.min.js&quot;&gt;&lt;/script&gt;\n",
       "    &lt;script src=&quot;https://cdnjs.cloudflare.com/ajax/libs/Leaflet.awesome-markers/2.0.2/leaflet.awesome-markers.js&quot;&gt;&lt;/script&gt;\n",
       "    &lt;link rel=&quot;stylesheet&quot; href=&quot;https://cdn.jsdelivr.net/npm/leaflet@1.9.3/dist/leaflet.css&quot;/&gt;\n",
       "    &lt;link rel=&quot;stylesheet&quot; href=&quot;https://cdn.jsdelivr.net/npm/bootstrap@5.2.2/dist/css/bootstrap.min.css&quot;/&gt;\n",
       "    &lt;link rel=&quot;stylesheet&quot; href=&quot;https://netdna.bootstrapcdn.com/bootstrap/3.0.0/css/bootstrap-glyphicons.css&quot;/&gt;\n",
       "    &lt;link rel=&quot;stylesheet&quot; href=&quot;https://cdn.jsdelivr.net/npm/@fortawesome/fontawesome-free@6.2.0/css/all.min.css&quot;/&gt;\n",
       "    &lt;link rel=&quot;stylesheet&quot; href=&quot;https://cdnjs.cloudflare.com/ajax/libs/Leaflet.awesome-markers/2.0.2/leaflet.awesome-markers.css&quot;/&gt;\n",
       "    &lt;link rel=&quot;stylesheet&quot; href=&quot;https://cdn.jsdelivr.net/gh/python-visualization/folium/folium/templates/leaflet.awesome.rotate.min.css&quot;/&gt;\n",
       "    \n",
       "            &lt;meta name=&quot;viewport&quot; content=&quot;width=device-width,\n",
       "                initial-scale=1.0, maximum-scale=1.0, user-scalable=no&quot; /&gt;\n",
       "            &lt;style&gt;\n",
       "                #map_e56b3c9f18e291c2340312385519e8a9 {\n",
       "                    position: relative;\n",
       "                    width: 100.0%;\n",
       "                    height: 100.0%;\n",
       "                    left: 0.0%;\n",
       "                    top: 0.0%;\n",
       "                }\n",
       "                .leaflet-container { font-size: 1rem; }\n",
       "            &lt;/style&gt;\n",
       "        \n",
       "&lt;/head&gt;\n",
       "&lt;body&gt;\n",
       "    \n",
       "    \n",
       "            &lt;div class=&quot;folium-map&quot; id=&quot;map_e56b3c9f18e291c2340312385519e8a9&quot; &gt;&lt;/div&gt;\n",
       "        \n",
       "&lt;/body&gt;\n",
       "&lt;script&gt;\n",
       "    \n",
       "    \n",
       "            var map_e56b3c9f18e291c2340312385519e8a9 = L.map(\n",
       "                &quot;map_e56b3c9f18e291c2340312385519e8a9&quot;,\n",
       "                {\n",
       "                    center: [52.579640725000004, 9.14454135],\n",
       "                    crs: L.CRS.EPSG3857,\n",
       "                    zoom: 5,\n",
       "                    zoomControl: true,\n",
       "                    preferCanvas: false,\n",
       "                }\n",
       "            );\n",
       "\n",
       "            \n",
       "\n",
       "        \n",
       "    \n",
       "            var tile_layer_eb1f1b7e9c946863946e51f057204e77 = L.tileLayer(\n",
       "                &quot;https://tile.openstreetmap.org/{z}/{x}/{y}.png&quot;,\n",
       "                {&quot;attribution&quot;: &quot;\\u0026copy; \\u003ca href=\\&quot;https://www.openstreetmap.org/copyright\\&quot;\\u003eOpenStreetMap\\u003c/a\\u003e contributors&quot;, &quot;detectRetina&quot;: false, &quot;maxNativeZoom&quot;: 19, &quot;maxZoom&quot;: 19, &quot;minZoom&quot;: 0, &quot;noWrap&quot;: false, &quot;opacity&quot;: 1, &quot;subdomains&quot;: &quot;abc&quot;, &quot;tms&quot;: false}\n",
       "            );\n",
       "        \n",
       "    \n",
       "            tile_layer_eb1f1b7e9c946863946e51f057204e77.addTo(map_e56b3c9f18e291c2340312385519e8a9);\n",
       "        \n",
       "    \n",
       "            var rectangle_11124d8d1840543d897e60b1a6e7541a = L.rectangle(\n",
       "                [[51.2249633, 6.54747184], [53.93431815, 11.74161086]],\n",
       "                {&quot;bubblingMouseEvents&quot;: true, &quot;color&quot;: &quot;red&quot;, &quot;dashArray&quot;: null, &quot;dashOffset&quot;: null, &quot;fill&quot;: true, &quot;fillColor&quot;: &quot;red&quot;, &quot;fillOpacity&quot;: 0.2, &quot;fillRule&quot;: &quot;evenodd&quot;, &quot;lineCap&quot;: &quot;round&quot;, &quot;lineJoin&quot;: &quot;round&quot;, &quot;noClip&quot;: false, &quot;opacity&quot;: 1.0, &quot;smoothFactor&quot;: 1.0, &quot;stroke&quot;: true, &quot;weight&quot;: 3}\n",
       "            ).addTo(map_e56b3c9f18e291c2340312385519e8a9);\n",
       "        \n",
       "&lt;/script&gt;\n",
       "&lt;/html&gt;\" style=\"position:absolute;width:100%;height:100%;left:0;top:0;border:none !important;\" allowfullscreen webkitallowfullscreen mozallowfullscreen></iframe></div></div>"
      ],
      "text/plain": [
       "<folium.folium.Map at 0x2cf6fa76b70>"
      ]
     },
     "metadata": {},
     "output_type": "display_data"
    }
   ],
   "source": [
    "if coords:\n",
    "    # Calculate the center of the bounding box\n",
    "    center_lat = (coords[1] + coords[3]) / 2\n",
    "    center_lon = (coords[0] + coords[2]) / 2\n",
    "\n",
    "    # Create a map centered on the bounding box\n",
    "    m = folium.Map(location=[center_lat, center_lon], zoom_start=5)\n",
    "\n",
    "    # Add the bounding box rectangle to the map\n",
    "    folium.Rectangle(\n",
    "        bounds=[(coords[1], coords[0]), (coords[3], coords[2])],\n",
    "        color=\"red\",\n",
    "        fill=True,\n",
    "        fillColor=\"red\",\n",
    "        fillOpacity=0.2\n",
    "    ).add_to(m)\n",
    "\n",
    "    # Display the map\n",
    "    display(m)\n",
    "else:\n",
    "    print(\"No valid coordinates found in the XML file.\")"
   ]
  },
  {
   "cell_type": "markdown",
   "metadata": {},
   "source": [
    "The identify_country function finds the country corresponding to a bounding box by:\n",
    "<ul>\n",
    "<li>Checking which countries intersect the box.\n",
    "<li>If any intersect, it sees if the box's centroid is inside a country.\n",
    "<li>If not, it reprojects to an equal-area CRS and selects the country with the largest overlap. It returns the country's name or None if no match is found.\n",
    "</ul>"
   ]
  },
  {
   "cell_type": "code",
   "execution_count": 5,
   "metadata": {},
   "outputs": [],
   "source": [
    "def identify_country(west, south, east, north, world):\n",
    "    try:\n",
    "        bbox = box(west, south, east, north)\n",
    "        bbox_gdf = gpd.GeoDataFrame({'geometry': [bbox]}, crs=world.crs)\n",
    "\n",
    "        # Find intersecting countries\n",
    "        intersecting = world[world.intersects(bbox)]\n",
    "        \n",
    "        if not intersecting.empty:\n",
    "            # Calculate centroid of the bbox\n",
    "            bbox_centroid = Point((west + east) / 2, (south + north) / 2)\n",
    "\n",
    "            # print(\"bbox centroid\",bbox_centroid)\n",
    "            # Find countries that contain the centroid\n",
    "            containing = intersecting[intersecting.contains(bbox_centroid)]\n",
    "\n",
    "            if not containing.empty:\n",
    "                return containing.iloc[0]['NAME']\n",
    "            else:\n",
    "                # If no country contains the centroid, return the one with the largest overlap\n",
    "                # Project to Equal Area projection for accurate area calculation\n",
    "                equal_area_crs = CRS.from_epsg(6933)\n",
    "                # Transform countries that overlap to equal-area-map\n",
    "                intersecting_projected = intersecting.to_crs(equal_area_crs)\n",
    "                # Transform bbox on equal_area_crs\n",
    "                bbox_projected = bbox_gdf.to_crs(equal_area_crs)\n",
    "                \n",
    "                intersections = intersecting_projected.intersection(bbox_projected.iloc[0].geometry)\n",
    "                max_intersection_idx = intersections.area.idxmax()\n",
    "                return intersecting.loc[max_intersection_idx, 'NAME']\n",
    "        \n",
    "        return None\n",
    "    except Exception as e:\n",
    "        print(f\"Error in identify_country: {e}\")\n",
    "        return \"Error occurred\""
   ]
  },
  {
   "cell_type": "markdown",
   "metadata": {},
   "source": [
    "The get_area function calculates the area of the bbox. <br/>\n",
    "It projects the coordinates from epsg:4326 to EPSG:3035 to get accurate area measurement since this\n",
    "is EU specific projection"
   ]
  },
  {
   "cell_type": "code",
   "execution_count": 6,
   "metadata": {},
   "outputs": [],
   "source": [
    "def get_area(coords):\n",
    "    west, south, east, north = coords\n",
    "    polygon = [(west, south), (east, south), (east, north), (west, north)]\n",
    "    polygon_geom = Polygon(polygon)\n",
    "    # This creates a GeoDataFrame setting the Global Coordinate System\n",
    "    poly_df = gpd.GeoDataFrame(index=[0], crs='epsg:4326', geometry=[polygon_geom])\n",
    "    # Project to european coordinate system since datasets explored are tailored to EU\n",
    "    poly_df = poly_df.to_crs('EPSG:3035')\n",
    "    # Divide by 1.000.000 to get it in square kilometers\n",
    "    return round(poly_df.area[0] / 1000000,3)"
   ]
  },
  {
   "cell_type": "code",
   "execution_count": 7,
   "metadata": {},
   "outputs": [
    {
     "name": "stdout",
     "output_type": "stream",
     "text": [
      "Identified Country: Germany\n",
      "Bounding Box Area: 106045.57 km²\n",
      "Country Area: 357763.10 km²\n",
      "Area Ratio: 0.30\n",
      "High Value Dataset: False\n"
     ]
    }
   ],
   "source": [
    "identified_country = identify_country(west, south, east, north, world)\n",
    "bounding_box_area = get_area(coords)\n",
    "country_area = eu_countries_df.loc[eu_countries_df['Country Name'] == identified_country, 'Area'].values[0]\n",
    "\n",
    "if identified_country:\n",
    "    bounding_box_area = get_area(coords)\n",
    "    country_area = eu_countries_df.loc[eu_countries_df['Country Name'] == identified_country, 'Area'].values[0]\n",
    "\n",
    "    # Calculate the ratio of bounding box area to country area\n",
    "    area_ratio = bounding_box_area / country_area\n",
    "\n",
    "    # Define a threshold for what we consider a \"national\" dataset\n",
    "    national_threshold = 0.7  # e.g., if the bounding box covers at least 70% of the country\n",
    "\n",
    "    is_national = area_ratio >= national_threshold\n",
    "\n",
    "    print(f\"Identified Country: {identified_country}\")\n",
    "    print(f\"Bounding Box Area: {bounding_box_area:.2f} km²\")\n",
    "    print(f\"Country Area: {country_area:.2f} km²\")\n",
    "    print(f\"Area Ratio: {area_ratio:.2f}\")\n",
    "    print(f\"High Value Dataset: {is_national}\")\n"
   ]
  }
 ],
 "metadata": {
  "kernelspec": {
   "display_name": "Python 3",
   "language": "python",
   "name": "python3"
  },
  "language_info": {
   "codemirror_mode": {
    "name": "ipython",
    "version": 3
   },
   "file_extension": ".py",
   "mimetype": "text/x-python",
   "name": "python",
   "nbconvert_exporter": "python",
   "pygments_lexer": "ipython3",
   "version": "3.12.6"
  }
 },
 "nbformat": 4,
 "nbformat_minor": 2
}
