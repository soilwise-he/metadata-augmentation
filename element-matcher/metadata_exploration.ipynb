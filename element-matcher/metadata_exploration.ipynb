{
 "cells": [
  {
   "cell_type": "markdown",
   "id": "e091dec0",
   "metadata": {},
   "source": [
    "## Metadata exploration\n",
    "This code is to explore the original metadata elements. The idea is to separate it from the code and make it nicely readable."
   ]
  },
  {
   "cell_type": "markdown",
   "id": "9aa663be",
   "metadata": {},
   "source": [
    "### Part 1: Type"
   ]
  },
  {
   "cell_type": "code",
   "execution_count": 1,
   "id": "d5f99e90",
   "metadata": {},
   "outputs": [],
   "source": [
    "import sys\n",
    "sys.path.append('../utils')\n",
    "from database import dbQuery\n",
    "from dotenv import load_dotenv\n",
    "from rdflib import Graph\n",
    "from collections import Counter\n",
    "import pandas as pd"
   ]
  },
  {
   "cell_type": "markdown",
   "id": "c03eca44",
   "metadata": {},
   "source": [
    "Q 1.1: The count of type values from the metadata"
   ]
  },
  {
   "cell_type": "code",
   "execution_count": 2,
   "id": "50e37eca",
   "metadata": {},
   "outputs": [],
   "source": [
    "def turple2dict(rows): # transform a query result from turple to dict\n",
    "    col_names = ['identifier', 'hash', 'uri', 'turtle', 'prefix']  \n",
    "    return [dict(zip(col_names, row)) for row in rows]\n",
    "\n",
    "def get_element_type(item):\n",
    "    if item['turtle'] is None:\n",
    "        return None\n",
    "    \n",
    "    if item['prefix'] is not None:\n",
    "        turtle = item['prefix'] + item['turtle']\n",
    "    else:\n",
    "        turtle = item['turtle']\n",
    "\n",
    "    try:\n",
    "        g = Graph()\n",
    "        g.parse(data=turtle, format=\"turtle\")\n",
    "\n",
    "        query = '''\n",
    "        prefix dct: <http://purl.org/dc/terms/>\n",
    "        SELECT ?p\n",
    "        WHERE {\n",
    "            ?p dct:type 'journalpaper'\n",
    "        }\n",
    "        '''\n",
    "        results = g.query(query)\n",
    "        if len(results) > 0:\n",
    "            return 'journalpaper'\n",
    "\n",
    "        query = '''\n",
    "        prefix dct: <http://purl.org/dc/terms/>\n",
    "        SELECT ?type\n",
    "        WHERE {\n",
    "            ?p dct:identifier ?identifier;\n",
    "               dct:type ?type\n",
    "            FILTER (?type != <http://inspire.ec.europa.eu/glossary/SpatialReferenceSystem>) \n",
    "        }\n",
    "        ''' \n",
    "        results = g.query(query)\n",
    "        for row in results:\n",
    "            return str(row['type'])\n",
    "        # return [str(row['type']) for row in results]\n",
    "\n",
    "    except Exception as e:\n",
    "        # print('exception:', e)\n",
    "        return None\n",
    "\n",
    "load_dotenv()\n",
    "sql = '''\n",
    "SELECT items.identifier,items.hash,items.uri,items.turtle,sources.turtle_prefix\n",
    "FROM harvest.items LEFT JOIN harvest.sources ON items.source = sources.name::text;\n",
    "'''\n",
    "result_items = turple2dict(dbQuery(sql, hasoutput=True))\n",
    "types = []\n",
    "for item in result_items:\n",
    "    types.append(get_element_type(item))\n",
    "counter = Counter(types)"
   ]
  },
  {
   "cell_type": "code",
   "execution_count": 5,
   "id": "cf1eaeaa",
   "metadata": {},
   "outputs": [
    {
     "data": {
      "application/vnd.microsoft.datawrangler.viewer.v0+json": {
       "columns": [
        {
         "name": "Type",
         "rawType": "object",
         "type": "unknown"
        },
        {
         "name": "Count",
         "rawType": "int64",
         "type": "integer"
        }
       ],
       "conversionMethod": "pd.DataFrame",
       "ref": "4aceb1f9-3afb-4664-a71d-5f6bf783b046",
       "rows": [
        [
         "journalpaper",
         "9001"
        ],
        [
         null,
         "4371"
        ],
        [
         "document",
         "3472"
        ],
        [
         "http://inspire.ec.europa.eu/metadata-codelist/ResourceType/dataset",
         "1799"
        ],
        [
         "dataset",
         "1752"
        ],
        [
         "MAP",
         "1016"
        ],
        [
         "http://inspire.ec.europa.eu/metadata-codelist/ResourceType/service",
         "272"
        ],
        [
         "http://inspire.ec.europa.eu/metadata-codelist/ResourceType/series",
         "74"
        ],
        [
         "Best practices and tools",
         "58"
        ],
        [
         "Other",
         "40"
        ],
        [
         "Education &amp; Training material",
         "38"
        ],
        [
         "Publications &amp; reports",
         "36"
        ],
        [
         "Scientific",
         "13"
        ],
        [
         "Interview",
         "10"
        ],
        [
         "EU policy document",
         "9"
        ],
        [
         "Conference deliverables",
         "9"
        ],
        [
         "General articles",
         "7"
        ],
        [
         "Policy documents",
         "6"
        ],
        [
         "National policy document",
         "5"
        ],
        [
         "Policy recommendations",
         "3"
        ],
        [
         "Secondary education",
         "1"
        ],
        [
         "Vocational education &amp; training",
         "1"
        ]
       ],
       "shape": {
        "columns": 1,
        "rows": 22
       }
      },
      "text/html": [
       "<div>\n",
       "<style scoped>\n",
       "    .dataframe tbody tr th:only-of-type {\n",
       "        vertical-align: middle;\n",
       "    }\n",
       "\n",
       "    .dataframe tbody tr th {\n",
       "        vertical-align: top;\n",
       "    }\n",
       "\n",
       "    .dataframe thead th {\n",
       "        text-align: right;\n",
       "    }\n",
       "</style>\n",
       "<table border=\"1\" class=\"dataframe\">\n",
       "  <thead>\n",
       "    <tr style=\"text-align: right;\">\n",
       "      <th></th>\n",
       "      <th>Count</th>\n",
       "    </tr>\n",
       "    <tr>\n",
       "      <th>Type</th>\n",
       "      <th></th>\n",
       "    </tr>\n",
       "  </thead>\n",
       "  <tbody>\n",
       "    <tr>\n",
       "      <th>journalpaper</th>\n",
       "      <td>9001</td>\n",
       "    </tr>\n",
       "    <tr>\n",
       "      <th>None</th>\n",
       "      <td>4371</td>\n",
       "    </tr>\n",
       "    <tr>\n",
       "      <th>document</th>\n",
       "      <td>3472</td>\n",
       "    </tr>\n",
       "    <tr>\n",
       "      <th>http://inspire.ec.europa.eu/metadata-codelist/ResourceType/dataset</th>\n",
       "      <td>1799</td>\n",
       "    </tr>\n",
       "    <tr>\n",
       "      <th>dataset</th>\n",
       "      <td>1752</td>\n",
       "    </tr>\n",
       "    <tr>\n",
       "      <th>MAP</th>\n",
       "      <td>1016</td>\n",
       "    </tr>\n",
       "    <tr>\n",
       "      <th>http://inspire.ec.europa.eu/metadata-codelist/ResourceType/service</th>\n",
       "      <td>272</td>\n",
       "    </tr>\n",
       "    <tr>\n",
       "      <th>http://inspire.ec.europa.eu/metadata-codelist/ResourceType/series</th>\n",
       "      <td>74</td>\n",
       "    </tr>\n",
       "    <tr>\n",
       "      <th>Best practices and tools</th>\n",
       "      <td>58</td>\n",
       "    </tr>\n",
       "    <tr>\n",
       "      <th>Other</th>\n",
       "      <td>40</td>\n",
       "    </tr>\n",
       "    <tr>\n",
       "      <th>Education &amp;amp; Training material</th>\n",
       "      <td>38</td>\n",
       "    </tr>\n",
       "    <tr>\n",
       "      <th>Publications &amp;amp; reports</th>\n",
       "      <td>36</td>\n",
       "    </tr>\n",
       "    <tr>\n",
       "      <th>Scientific</th>\n",
       "      <td>13</td>\n",
       "    </tr>\n",
       "    <tr>\n",
       "      <th>Interview</th>\n",
       "      <td>10</td>\n",
       "    </tr>\n",
       "    <tr>\n",
       "      <th>EU policy document</th>\n",
       "      <td>9</td>\n",
       "    </tr>\n",
       "    <tr>\n",
       "      <th>Conference deliverables</th>\n",
       "      <td>9</td>\n",
       "    </tr>\n",
       "    <tr>\n",
       "      <th>General articles</th>\n",
       "      <td>7</td>\n",
       "    </tr>\n",
       "    <tr>\n",
       "      <th>Policy documents</th>\n",
       "      <td>6</td>\n",
       "    </tr>\n",
       "    <tr>\n",
       "      <th>National policy document</th>\n",
       "      <td>5</td>\n",
       "    </tr>\n",
       "    <tr>\n",
       "      <th>Policy recommendations</th>\n",
       "      <td>3</td>\n",
       "    </tr>\n",
       "    <tr>\n",
       "      <th>Secondary education</th>\n",
       "      <td>1</td>\n",
       "    </tr>\n",
       "    <tr>\n",
       "      <th>Vocational education &amp;amp; training</th>\n",
       "      <td>1</td>\n",
       "    </tr>\n",
       "  </tbody>\n",
       "</table>\n",
       "</div>"
      ],
      "text/plain": [
       "                                                    Count\n",
       "Type                                                     \n",
       "journalpaper                                         9001\n",
       "None                                                 4371\n",
       "document                                             3472\n",
       "http://inspire.ec.europa.eu/metadata-codelist/R...   1799\n",
       "dataset                                              1752\n",
       "MAP                                                  1016\n",
       "http://inspire.ec.europa.eu/metadata-codelist/R...    272\n",
       "http://inspire.ec.europa.eu/metadata-codelist/R...     74\n",
       "Best practices and tools                               58\n",
       "Other                                                  40\n",
       "Education &amp; Training material                      38\n",
       "Publications &amp; reports                             36\n",
       "Scientific                                             13\n",
       "Interview                                              10\n",
       "EU policy document                                      9\n",
       "Conference deliverables                                 9\n",
       "General articles                                        7\n",
       "Policy documents                                        6\n",
       "National policy document                                5\n",
       "Policy recommendations                                  3\n",
       "Secondary education                                     1\n",
       "Vocational education &amp; training                     1"
      ]
     },
     "execution_count": 5,
     "metadata": {},
     "output_type": "execute_result"
    }
   ],
   "source": [
    "# display the count in a table\n",
    "types_df = pd.DataFrame.from_dict(counter, orient='index', columns=['Count'])\n",
    "types_df.index.name = 'Type'\n",
    "types_df = types_df.sort_values('Count', ascending=False)\n",
    "types_df"
   ]
  }
 ],
 "metadata": {
  "kernelspec": {
   "display_name": ".venv",
   "language": "python",
   "name": "python3"
  },
  "language_info": {
   "codemirror_mode": {
    "name": "ipython",
    "version": 3
   },
   "file_extension": ".py",
   "mimetype": "text/x-python",
   "name": "python",
   "nbconvert_exporter": "python",
   "pygments_lexer": "ipython3",
   "version": "3.10.12"
  }
 },
 "nbformat": 4,
 "nbformat_minor": 5
}
