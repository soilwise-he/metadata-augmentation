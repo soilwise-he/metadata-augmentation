{
 "cells": [
  {
   "cell_type": "markdown",
   "id": "e091dec0",
   "metadata": {},
   "source": [
    "## Metadata exploration\n",
    "This code is to explore the original metadata elements. The idea is to separate it from the code and make it nicely readable."
   ]
  },
  {
   "cell_type": "markdown",
   "id": "9aa663be",
   "metadata": {},
   "source": [
    "### Part 1: Type"
   ]
  },
  {
   "cell_type": "code",
   "execution_count": 24,
   "id": "d5f99e90",
   "metadata": {},
   "outputs": [],
   "source": [
    "import sys\n",
    "sys.path.append('../utils')\n",
    "from database import dbQuery\n",
    "from dotenv import load_dotenv\n",
    "from rdflib import Graph\n",
    "from collections import Counter\n",
    "import pandas as pd\n",
    "def turple2dict(rows): # transform a query result from turple to dict\n",
    "    col_names = ['identifier', 'hash', 'uri', 'turtle', 'prefix']  \n",
    "    return [dict(zip(col_names, row)) for row in rows]\n",
    "load_dotenv()\n",
    "sql = '''\n",
    "SELECT items.identifier,items.hash,items.uri,items.turtle,sources.turtle_prefix\n",
    "FROM harvest.items LEFT JOIN harvest.sources ON items.source = sources.name::text;\n",
    "'''\n",
    "result_items = turple2dict(dbQuery(sql, hasoutput=True))"
   ]
  },
  {
   "cell_type": "markdown",
   "id": "c03eca44",
   "metadata": {},
   "source": [
    "**Q1. The count of type values from the metadata**"
   ]
  },
  {
   "cell_type": "code",
   "execution_count": null,
   "id": "50e37eca",
   "metadata": {},
   "outputs": [
    {
     "name": "stdout",
     "output_type": "stream",
     "text": [
      "Number of records with an empty turtle: 2821\n",
      "Number of records with an error when querying the type: 23\n"
     ]
    }
   ],
   "source": [
    "# Note that we script does not get the latest item with the same identifier, for an insight we makes it simple to choose the first one. In the code we need to extract the latest one.\n",
    "count_non_turtle = 0\n",
    "count_err_query = 0\n",
    "identifier_list = []\n",
    "\n",
    "def get_element_type(item):\n",
    "    global count_non_turtle\n",
    "    global count_err_query\n",
    "    global identifier_list\n",
    "    if item['turtle'] is None:\n",
    "        count_non_turtle = count_non_turtle + 1\n",
    "        return None\n",
    "    \n",
    "    if item['prefix'] is not None:\n",
    "        turtle = item['prefix'] + item['turtle']\n",
    "    else:\n",
    "        turtle = item['turtle']\n",
    "\n",
    "    if item['identifier'] not in identifier_list: #to avoid duplicate identifiers\n",
    "        identifier_list.append(item['identifier']) \n",
    "        try:\n",
    "            g = Graph()\n",
    "            g.parse(data=turtle, format=\"turtle\")\n",
    "\n",
    "            query = '''\n",
    "            prefix dct: <http://purl.org/dc/terms/>\n",
    "            SELECT ?p\n",
    "            WHERE {\n",
    "                ?p dct:type 'journalpaper'\n",
    "            }\n",
    "            '''\n",
    "            results = g.query(query)\n",
    "            if len(results) > 0:\n",
    "                return 'journalpaper'\n",
    "\n",
    "            query = '''\n",
    "            prefix dct: <http://purl.org/dc/terms/>\n",
    "            SELECT ?type\n",
    "            WHERE {\n",
    "                ?p dct:identifier ?identifier;\n",
    "                dct:type ?type\n",
    "                FILTER (?type != <http://inspire.ec.europa.eu/glossary/SpatialReferenceSystem>) \n",
    "            }\n",
    "            ''' \n",
    "            results = g.query(query)\n",
    "            for row in results:\n",
    "                return str(row['type'])\n",
    "            # return [str(row['type']) for row in results]\n",
    "\n",
    "        except Exception as e:\n",
    "            # print('exception:', e)\n",
    "            count_err_query = count_err_query + 1\n",
    "            return None\n",
    "    else:\n",
    "        return None\n",
    "\n",
    "types = []\n",
    "for item in result_items:\n",
    "    types.append(get_element_type(item))\n",
    "counter = Counter(types)\n",
    "print('Number of records with an empty turtle:', count_non_turtle)\n",
    "print('Number of records with an error when querying the type:', count_err_query)"
   ]
  },
  {
   "cell_type": "code",
   "execution_count": 10,
   "id": "cf1eaeaa",
   "metadata": {},
   "outputs": [
    {
     "data": {
      "application/vnd.microsoft.datawrangler.viewer.v0+json": {
       "columns": [
        {
         "name": "Type",
         "rawType": "object",
         "type": "unknown"
        },
        {
         "name": "Count",
         "rawType": "int64",
         "type": "integer"
        }
       ],
       "conversionMethod": "pd.DataFrame",
       "ref": "dbf53ec2-2068-40fc-9366-6bec1f4a84b4",
       "rows": [
        [
         "journalpaper",
         "9001"
        ],
        [
         null,
         "8870"
        ],
        [
         "http://inspire.ec.europa.eu/metadata-codelist/ResourceType/dataset",
         "1799"
        ],
        [
         "MAP",
         "1016"
        ],
        [
         "document",
         "596"
        ],
        [
         "http://inspire.ec.europa.eu/metadata-codelist/ResourceType/service",
         "272"
        ],
        [
         "dataset",
         "129"
        ],
        [
         "http://inspire.ec.europa.eu/metadata-codelist/ResourceType/series",
         "74"
        ],
        [
         "Best practices and tools",
         "58"
        ],
        [
         "Other",
         "40"
        ],
        [
         "Education &amp; Training material",
         "38"
        ],
        [
         "Publications &amp; reports",
         "36"
        ],
        [
         "Scientific",
         "13"
        ],
        [
         "Interview",
         "10"
        ],
        [
         "EU policy document",
         "9"
        ],
        [
         "Conference deliverables",
         "9"
        ],
        [
         "General articles",
         "7"
        ],
        [
         "Policy documents",
         "6"
        ],
        [
         "National policy document",
         "5"
        ],
        [
         "Policy recommendations",
         "3"
        ],
        [
         "Secondary education",
         "1"
        ],
        [
         "Vocational education &amp; training",
         "1"
        ]
       ],
       "shape": {
        "columns": 1,
        "rows": 22
       }
      },
      "text/html": [
       "<div>\n",
       "<style scoped>\n",
       "    .dataframe tbody tr th:only-of-type {\n",
       "        vertical-align: middle;\n",
       "    }\n",
       "\n",
       "    .dataframe tbody tr th {\n",
       "        vertical-align: top;\n",
       "    }\n",
       "\n",
       "    .dataframe thead th {\n",
       "        text-align: right;\n",
       "    }\n",
       "</style>\n",
       "<table border=\"1\" class=\"dataframe\">\n",
       "  <thead>\n",
       "    <tr style=\"text-align: right;\">\n",
       "      <th></th>\n",
       "      <th>Count</th>\n",
       "    </tr>\n",
       "    <tr>\n",
       "      <th>Type</th>\n",
       "      <th></th>\n",
       "    </tr>\n",
       "  </thead>\n",
       "  <tbody>\n",
       "    <tr>\n",
       "      <th>journalpaper</th>\n",
       "      <td>9001</td>\n",
       "    </tr>\n",
       "    <tr>\n",
       "      <th>None</th>\n",
       "      <td>8870</td>\n",
       "    </tr>\n",
       "    <tr>\n",
       "      <th>http://inspire.ec.europa.eu/metadata-codelist/ResourceType/dataset</th>\n",
       "      <td>1799</td>\n",
       "    </tr>\n",
       "    <tr>\n",
       "      <th>MAP</th>\n",
       "      <td>1016</td>\n",
       "    </tr>\n",
       "    <tr>\n",
       "      <th>document</th>\n",
       "      <td>596</td>\n",
       "    </tr>\n",
       "    <tr>\n",
       "      <th>http://inspire.ec.europa.eu/metadata-codelist/ResourceType/service</th>\n",
       "      <td>272</td>\n",
       "    </tr>\n",
       "    <tr>\n",
       "      <th>dataset</th>\n",
       "      <td>129</td>\n",
       "    </tr>\n",
       "    <tr>\n",
       "      <th>http://inspire.ec.europa.eu/metadata-codelist/ResourceType/series</th>\n",
       "      <td>74</td>\n",
       "    </tr>\n",
       "    <tr>\n",
       "      <th>Best practices and tools</th>\n",
       "      <td>58</td>\n",
       "    </tr>\n",
       "    <tr>\n",
       "      <th>Other</th>\n",
       "      <td>40</td>\n",
       "    </tr>\n",
       "    <tr>\n",
       "      <th>Education &amp;amp; Training material</th>\n",
       "      <td>38</td>\n",
       "    </tr>\n",
       "    <tr>\n",
       "      <th>Publications &amp;amp; reports</th>\n",
       "      <td>36</td>\n",
       "    </tr>\n",
       "    <tr>\n",
       "      <th>Scientific</th>\n",
       "      <td>13</td>\n",
       "    </tr>\n",
       "    <tr>\n",
       "      <th>Interview</th>\n",
       "      <td>10</td>\n",
       "    </tr>\n",
       "    <tr>\n",
       "      <th>EU policy document</th>\n",
       "      <td>9</td>\n",
       "    </tr>\n",
       "    <tr>\n",
       "      <th>Conference deliverables</th>\n",
       "      <td>9</td>\n",
       "    </tr>\n",
       "    <tr>\n",
       "      <th>General articles</th>\n",
       "      <td>7</td>\n",
       "    </tr>\n",
       "    <tr>\n",
       "      <th>Policy documents</th>\n",
       "      <td>6</td>\n",
       "    </tr>\n",
       "    <tr>\n",
       "      <th>National policy document</th>\n",
       "      <td>5</td>\n",
       "    </tr>\n",
       "    <tr>\n",
       "      <th>Policy recommendations</th>\n",
       "      <td>3</td>\n",
       "    </tr>\n",
       "    <tr>\n",
       "      <th>Secondary education</th>\n",
       "      <td>1</td>\n",
       "    </tr>\n",
       "    <tr>\n",
       "      <th>Vocational education &amp;amp; training</th>\n",
       "      <td>1</td>\n",
       "    </tr>\n",
       "  </tbody>\n",
       "</table>\n",
       "</div>"
      ],
      "text/plain": [
       "                                                    Count\n",
       "Type                                                     \n",
       "journalpaper                                         9001\n",
       "None                                                 8870\n",
       "http://inspire.ec.europa.eu/metadata-codelist/R...   1799\n",
       "MAP                                                  1016\n",
       "document                                              596\n",
       "http://inspire.ec.europa.eu/metadata-codelist/R...    272\n",
       "dataset                                               129\n",
       "http://inspire.ec.europa.eu/metadata-codelist/R...     74\n",
       "Best practices and tools                               58\n",
       "Other                                                  40\n",
       "Education &amp; Training material                      38\n",
       "Publications &amp; reports                             36\n",
       "Scientific                                             13\n",
       "Interview                                              10\n",
       "EU policy document                                      9\n",
       "Conference deliverables                                 9\n",
       "General articles                                        7\n",
       "Policy documents                                        6\n",
       "National policy document                                5\n",
       "Policy recommendations                                  3\n",
       "Secondary education                                     1\n",
       "Vocational education &amp; training                     1"
      ]
     },
     "execution_count": 10,
     "metadata": {},
     "output_type": "execute_result"
    }
   ],
   "source": [
    "# display the count in a table\n",
    "types_df = pd.DataFrame.from_dict(counter, orient='index', columns=['Count'])\n",
    "types_df.index.name = 'Type'\n",
    "types_df = types_df.sort_values('Count', ascending=False)\n",
    "types_df"
   ]
  },
  {
   "cell_type": "markdown",
   "id": "a6eedf39",
   "metadata": {},
   "source": [
    "**Q2. The case of mutiple types in a triple**"
   ]
  },
  {
   "cell_type": "code",
   "execution_count": null,
   "id": "5b7f4300",
   "metadata": {},
   "outputs": [
    {
     "name": "stdout",
     "output_type": "stream",
     "text": [
      "Number of records with mutiple types: 333\n"
     ]
    }
   ],
   "source": [
    "\n",
    "identifier_list = []\n",
    "\n",
    "def get_element_type_multiple(item):\n",
    "    global identifier_list\n",
    "    if item['turtle'] is None:\n",
    "        return None\n",
    "    \n",
    "    if item['prefix'] is not None:\n",
    "        turtle = item['prefix'] + item['turtle']\n",
    "    else:\n",
    "        turtle = item['turtle']\n",
    "\n",
    "    if item['identifier'] not in identifier_list: #to avoid duplicate identifiers\n",
    "        identifier_list.append(item['identifier']) \n",
    "        try:\n",
    "            g = Graph()\n",
    "            g.parse(data=turtle, format=\"turtle\")\n",
    "\n",
    "            query = '''\n",
    "            prefix dct: <http://purl.org/dc/terms/>\n",
    "            SELECT ?p\n",
    "            WHERE {\n",
    "                ?p dct:type 'journalpaper'\n",
    "            }\n",
    "            '''\n",
    "            results = g.query(query)\n",
    "            if len(results) > 0:\n",
    "                return None\n",
    "\n",
    "            query = '''\n",
    "            prefix dct: <http://purl.org/dc/terms/>\n",
    "            SELECT ?type\n",
    "            WHERE {\n",
    "                ?p dct:identifier ?identifier;\n",
    "                dct:type ?type\n",
    "                FILTER (?type != <http://inspire.ec.europa.eu/glossary/SpatialReferenceSystem>) \n",
    "            }\n",
    "            ''' \n",
    "            results = g.query(query)\n",
    "            if len(results) < 2: # get exactly one or get none\n",
    "                return None\n",
    "            return [str(row['type']) for row in results]\n",
    "        except Exception as e:\n",
    "            # print('exception:', e)\n",
    "            return None\n",
    "    else:\n",
    "        return None\n",
    "types = []\n",
    "for item in result_items:\n",
    "    t = get_element_type_multiple(item)\n",
    "    if t is not None and len(set(t)) > 1: # filter out duplicated types\n",
    "        types.append(t)\n",
    "\n",
    "print('Number of records with mutiple types:', len(types))"
   ]
  },
  {
   "cell_type": "code",
   "execution_count": 23,
   "id": "4325859a",
   "metadata": {},
   "outputs": [],
   "source": [
    "# types"
   ]
  },
  {
   "cell_type": "markdown",
   "id": "b1edcbf6",
   "metadata": {},
   "source": [
    "Find out that most cases are [service, a specific service type]"
   ]
  },
  {
   "cell_type": "code",
   "execution_count": 16,
   "id": "a224abc2",
   "metadata": {},
   "outputs": [
    {
     "data": {
      "application/vnd.microsoft.datawrangler.viewer.v0+json": {
       "columns": [
        {
         "name": "Service Type",
         "rawType": "object",
         "type": "string"
        },
        {
         "name": "Count",
         "rawType": "int64",
         "type": "integer"
        }
       ],
       "conversionMethod": "pd.DataFrame",
       "ref": "e90e4600-6862-4033-b1de-186e25da148a",
       "rows": [
        [
         "http://inspire.ec.europa.eu/metadata-codelist/SpatialDataServiceType/WMS",
         "198"
        ],
        [
         "http://inspire.ec.europa.eu/metadata-codelist/SpatialDataServiceType/view",
         "73"
        ],
        [
         "http://inspire.ec.europa.eu/metadata-codelist/SpatialDataServiceType/download",
         "47"
        ],
        [
         "http://inspire.ec.europa.eu/metadata-codelist/SpatialDataServiceType/AGIS_MAPPING",
         "21"
        ],
        [
         "http://inspire.ec.europa.eu/metadata-codelist/SpatialDataServiceType/discovery",
         "6"
        ],
        [
         "http://inspire.ec.europa.eu/metadata-codelist/SpatialDataServiceType/CSW",
         "1"
        ],
        [
         "http://inspire.ec.europa.eu/metadata-codelist/SpatialDataServiceType/other",
         "1"
        ]
       ],
       "shape": {
        "columns": 1,
        "rows": 7
       }
      },
      "text/html": [
       "<div>\n",
       "<style scoped>\n",
       "    .dataframe tbody tr th:only-of-type {\n",
       "        vertical-align: middle;\n",
       "    }\n",
       "\n",
       "    .dataframe tbody tr th {\n",
       "        vertical-align: top;\n",
       "    }\n",
       "\n",
       "    .dataframe thead th {\n",
       "        text-align: right;\n",
       "    }\n",
       "</style>\n",
       "<table border=\"1\" class=\"dataframe\">\n",
       "  <thead>\n",
       "    <tr style=\"text-align: right;\">\n",
       "      <th></th>\n",
       "      <th>Count</th>\n",
       "    </tr>\n",
       "    <tr>\n",
       "      <th>Service Type</th>\n",
       "      <th></th>\n",
       "    </tr>\n",
       "  </thead>\n",
       "  <tbody>\n",
       "    <tr>\n",
       "      <th>http://inspire.ec.europa.eu/metadata-codelist/SpatialDataServiceType/WMS</th>\n",
       "      <td>198</td>\n",
       "    </tr>\n",
       "    <tr>\n",
       "      <th>http://inspire.ec.europa.eu/metadata-codelist/SpatialDataServiceType/view</th>\n",
       "      <td>73</td>\n",
       "    </tr>\n",
       "    <tr>\n",
       "      <th>http://inspire.ec.europa.eu/metadata-codelist/SpatialDataServiceType/download</th>\n",
       "      <td>47</td>\n",
       "    </tr>\n",
       "    <tr>\n",
       "      <th>http://inspire.ec.europa.eu/metadata-codelist/SpatialDataServiceType/AGIS_MAPPING</th>\n",
       "      <td>21</td>\n",
       "    </tr>\n",
       "    <tr>\n",
       "      <th>http://inspire.ec.europa.eu/metadata-codelist/SpatialDataServiceType/discovery</th>\n",
       "      <td>6</td>\n",
       "    </tr>\n",
       "    <tr>\n",
       "      <th>http://inspire.ec.europa.eu/metadata-codelist/SpatialDataServiceType/CSW</th>\n",
       "      <td>1</td>\n",
       "    </tr>\n",
       "    <tr>\n",
       "      <th>http://inspire.ec.europa.eu/metadata-codelist/SpatialDataServiceType/other</th>\n",
       "      <td>1</td>\n",
       "    </tr>\n",
       "  </tbody>\n",
       "</table>\n",
       "</div>"
      ],
      "text/plain": [
       "                                                    Count\n",
       "Service Type                                             \n",
       "http://inspire.ec.europa.eu/metadata-codelist/S...    198\n",
       "http://inspire.ec.europa.eu/metadata-codelist/S...     73\n",
       "http://inspire.ec.europa.eu/metadata-codelist/S...     47\n",
       "http://inspire.ec.europa.eu/metadata-codelist/S...     21\n",
       "http://inspire.ec.europa.eu/metadata-codelist/S...      6\n",
       "http://inspire.ec.europa.eu/metadata-codelist/S...      1\n",
       "http://inspire.ec.europa.eu/metadata-codelist/S...      1"
      ]
     },
     "execution_count": 16,
     "metadata": {},
     "output_type": "execute_result"
    }
   ],
   "source": [
    "service_type = []\n",
    "for t in types:\n",
    "    if 'http://inspire.ec.europa.eu/metadata-codelist/ResourceType/service' in t:\n",
    "        ser_spec = [i for i in t if i != 'http://inspire.ec.europa.eu/metadata-codelist/ResourceType/service']\n",
    "        service_type.extend(ser_spec)\n",
    "counter_s = Counter(service_type)\n",
    "\n",
    "service_types_df = pd.DataFrame.from_dict(counter_s, orient='index', columns=['Count'])\n",
    "service_types_df.index.name = 'Service Type'\n",
    "service_types_df = service_types_df.sort_values('Count', ascending=False)\n",
    "service_types_df"
   ]
  },
  {
   "cell_type": "markdown",
   "id": "65b07c65",
   "metadata": {},
   "source": [
    "Other cases?"
   ]
  },
  {
   "cell_type": "code",
   "execution_count": 22,
   "id": "dade26c2",
   "metadata": {},
   "outputs": [
    {
     "name": "stdout",
     "output_type": "stream",
     "text": [
      "Number of multiple types not a service: 61\n"
     ]
    }
   ],
   "source": [
    "other_t = []\n",
    "for t in types:\n",
    "    if 'http://inspire.ec.europa.eu/metadata-codelist/ResourceType/service' not in t:\n",
    "        other_t.append(t)\n",
    "print('Number of multiple types not a service:', len(other_t))\n",
    "# other_t"
   ]
  },
  {
   "cell_type": "markdown",
   "id": "826c5c78",
   "metadata": {},
   "source": [
    "Combinations:\n",
    "- ['Publications &amp; reports', 'Scientific'] \n",
    "- ['General articles', 'Scientific'] \n",
    "- ['EU policy document', 'Policy documents']\n",
    "- ['National policy document', 'Policy documents']\n",
    "- ['Policy documents', 'Science-based policy advice']\n",
    "- ['Policy documents', 'Policy recommendations']\n",
    "- ['Education &amp; Training material', 'Vocational education &amp; training']\n",
    "- ['Education &amp; Training material', 'Secondary education'],\n",
    "- ['Education &amp; Training material', 'Interview'],\n",
    "- ['Education &amp; Training material', 'Higher education']\n"
   ]
  },
  {
   "cell_type": "markdown",
   "id": "79415f54",
   "metadata": {},
   "source": [
    "Now check the journal paper type"
   ]
  },
  {
   "cell_type": "code",
   "execution_count": 28,
   "id": "0abbbde6",
   "metadata": {},
   "outputs": [
    {
     "name": "stdout",
     "output_type": "stream",
     "text": [
      "Number of paper records without another type: 0\n",
      "Number of records with an error when querying the type: 23\n",
      "Number of paper records with other types: 9001\n"
     ]
    }
   ],
   "source": [
    "identifier_list = []\n",
    "count_paper_no_type = 0\n",
    "count_err_query = 0\n",
    "def get_element_type_journal_paper(item):\n",
    "\n",
    "    global identifier_list\n",
    "    global count_paper_no_type\n",
    "    global count_err_query\n",
    "    if item['turtle'] is None:\n",
    "        return None\n",
    "    \n",
    "    if item['prefix'] is not None:\n",
    "        turtle = item['prefix'] + item['turtle']\n",
    "    else:\n",
    "        turtle = item['turtle']\n",
    "\n",
    "    if item['identifier'] not in identifier_list: #to avoid duplicate identifiers\n",
    "        identifier_list.append(item['identifier']) \n",
    "        try:\n",
    "            g = Graph()\n",
    "            g.parse(data=turtle, format=\"turtle\")\n",
    "\n",
    "            query = '''\n",
    "            prefix dct: <http://purl.org/dc/terms/>\n",
    "            SELECT ?p\n",
    "            WHERE {\n",
    "                ?p dct:type 'journalpaper'\n",
    "            }\n",
    "            '''\n",
    "            results = g.query(query)\n",
    "            if len(results) == 0: # only consider the journal paper\n",
    "                return None\n",
    "            \n",
    "            query = '''\n",
    "            prefix dct: <http://purl.org/dc/terms/>\n",
    "            SELECT ?type\n",
    "            WHERE {\n",
    "                ?p dct:type ?type\n",
    "                FILTER (?type != <http://inspire.ec.europa.eu/glossary/SpatialReferenceSystem>) \n",
    "            }\n",
    "            ''' \n",
    "            results = g.query(query)\n",
    "            if len(results) == 0: # get exactly one or get none\n",
    "                count_paper_no_type += 1\n",
    "                return None\n",
    "            for row in results:\n",
    "                return str(row['type'])\n",
    "            # return [str(row['type']) for row in results]\n",
    "\n",
    "        except Exception as e:\n",
    "            # print('exception:', e)\n",
    "            count_err_query = count_err_query + 1\n",
    "            return None\n",
    "    else:\n",
    "        return None\n",
    "types_p= []\n",
    "for item in result_items:\n",
    "    p = get_element_type_journal_paper(item)\n",
    "    if p is not None:\n",
    "        types_p.append(t)\n",
    "print('Number of paper records without another type:', count_paper_no_type)\n",
    "print('Number of records with an error when querying the type:', count_err_query)\n",
    "print('Number of paper records with other types:', len(types_p))"
   ]
  },
  {
   "cell_type": "markdown",
   "id": "0a3073e5",
   "metadata": {},
   "source": [
    "The journal paper types (> 9000 records) do not give specific indications."
   ]
  },
  {
   "cell_type": "markdown",
   "id": "1ed4cdf8",
   "metadata": {},
   "source": [
    "**Conclusion:**\n",
    "\n",
    "- journalpaper 9001 keep it? too general?\n",
    "- http://inspire.ec.europa.eu/metadata-codelist/ResourceType/dataset\t1799 keep it\n",
    "- MAP\t1016 ???, many in dev but none in prod\n",
    "- document\t596 too general?\n",
    "- http://inspire.ec.europa.eu/metadata-codelist/ResourceType/service\t272 too general? There is also specific service indicated\n",
    "- http://inspire.ec.europa.eu/metadata-codelist/ResourceType/series\t74 keep it\n",
    "- Best practices and tools\t58 Celine suggest to remove 'tool' and what does 'best practice' mean???\n",
    "- Other\tremove it\n",
    "- Education &amp; Training material\t38 keep it, and merge 'Vocational education and training' and 'Secondary education'\n",
    "- Publications &amp; reports\tchange to 'reports'?\n",
    "- Scientific\t13 remove I guess\n",
    "- Interview\t10 keep it\n",
    "  \n",
    "- nongeographicaldataset: maybe goes to dataset\n",
    "- journal-article: go to journalpaper? because there are few\n",
    "- EU policy document: we combine all the policy related document to policy? with national policy, \n",
    "- software 8 : keep it\n",
    "- conference deliverables: for me looks too specific?\n",
    "- general articles 7: not sure, too few\n",
    "- image, text, videos can be removed, there are too few and these are formats\n",
    "- model is too few, I think we can remove it"
   ]
  }
 ],
 "metadata": {
  "kernelspec": {
   "display_name": ".venv",
   "language": "python",
   "name": "python3"
  },
  "language_info": {
   "codemirror_mode": {
    "name": "ipython",
    "version": 3
   },
   "file_extension": ".py",
   "mimetype": "text/x-python",
   "name": "python",
   "nbconvert_exporter": "python",
   "pygments_lexer": "ipython3",
   "version": "3.10.12"
  }
 },
 "nbformat": 4,
 "nbformat_minor": 5
}
